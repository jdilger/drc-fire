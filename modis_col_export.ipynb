{
 "cells": [
  {
   "cell_type": "code",
   "execution_count": null,
   "id": "da6212fc",
   "metadata": {},
   "outputs": [],
   "source": [
    "import ee\n",
    "import geemap\n",
    "ee.Initialize()"
   ]
  },
  {
   "cell_type": "markdown",
   "id": "2283611a",
   "metadata": {},
   "source": [
    "Helper functions for grabbing modis imgs"
   ]
  },
  {
   "cell_type": "code",
   "execution_count": null,
   "id": "0c747861",
   "metadata": {},
   "outputs": [],
   "source": [
    "def zeroPad(n):\n",
    "    return n.format('%02d')\n",
    "\n",
    "def getYearMonthDay( y, m, d):\n",
    "\n",
    "    m = ee.Number(m)\n",
    "    ms = zeroPad(m)\n",
    "\n",
    "    d = ee.Number(d)\n",
    "    ds = zeroPad(d)\n",
    "\n",
    "    y = ee.Number(y)\n",
    "    ys = zeroPad(y)\n",
    "    num = ys.cat(ms).cat(ds)\n",
    "\n",
    "    return ee.Number.parse(num)\n",
    "\n",
    "def get_analysis_dates(startJulian, endJulian, analysisPeriod):\n",
    "    # todo: clean this up now that in class...\n",
    "    analysisDates = ee.List.sequence(\n",
    "        startJulian, endJulian, analysisPeriod)\n",
    "    return analysisDates\n",
    "\n",
    "def getMODISFire( startDate, endDate):\n",
    "    #   //Bring in MYD14/MOD14 and combine them\n",
    "    modisFireAqua = ee.ImageCollection('MODIS/006/MYD14A2').select([0]) \\\n",
    "        .filterDate(startDate, endDate)\n",
    "    modisFireTerra = ee.ImageCollection('MODIS/006/MOD14A2').select([0]) \\\n",
    "        .filterDate(startDate, endDate)\n",
    "    modisFire = ee.ImageCollection(modisFireAqua.merge(modisFireTerra))\n",
    "    def fillEmptyCollections(inCollection, dummyImage):\n",
    "        dummyCollection = ee.ImageCollection(\n",
    "            [dummyImage.mask(ee.Image(0))])\n",
    "        imageCount = inCollection.toList(1).length()\n",
    "        return ee.ImageCollection(ee.Algorithms.If(imageCount.gt(0), inCollection, dummyCollection))\n",
    "\n",
    "\n",
    "    #   //Reclassify data and add year, month, day, and a unique year-month-day bands\n",
    "    def reclassify(img):\n",
    "        remapped = img.remap([0, 1, 2, 3, 4, 5, 6, 7, 8, 9], [\n",
    "                              0, 0, 0, 0, 0, 0, 0, 1, 2, 3]).byte().rename(['confidence'])\n",
    "\n",
    "        binary = remapped.gte(1).rename('binary').byte()\n",
    "\n",
    "        out = remapped.addBands(binary)\n",
    "        out = out.updateMask(remapped.gte(1))\n",
    "        return out\n",
    "    dummyImage = ee.ImageCollection('MODIS/006/MOD14A2').first()\n",
    "    modisFire = fillEmptyCollections(\n",
    "        modisFire, dummyImage)\n",
    "    #   //Recode it, and find the most confident year, month, and day\n",
    "    modisFire = modisFire.map(reclassify)\n",
    "    return modisFire\n",
    "\n"
   ]
  },
  {
   "cell_type": "markdown",
   "id": "65b1911c",
   "metadata": {},
   "source": [
    "Set up lists of time period range, the analysis period, and days of year range."
   ]
  },
  {
   "cell_type": "code",
   "execution_count": null,
   "id": "751f826c",
   "metadata": {},
   "outputs": [],
   "source": [
    "syear = 2000\n",
    "eyear = 2019\n",
    "analysisPeriod = 16\n",
    "startJulian, endJulian = 1, 365\n",
    "\n",
    "dates = get_analysis_dates(startJulian, endJulian, analysisPeriod)\n",
    "years = ee.List.sequence(syear,eyear)\n",
    "# print(years.getInfo())"
   ]
  },
  {
   "cell_type": "markdown",
   "id": "53adc601",
   "metadata": {},
   "source": [
    "functions to iterate over dates and get modis fire images"
   ]
  },
  {
   "cell_type": "code",
   "execution_count": null,
   "id": "87dbb26d",
   "metadata": {},
   "outputs": [],
   "source": [
    "def per_date(dt, year):\n",
    "    dt = ee.Number(dt)\n",
    "\n",
    "    analysisStartJulian = dt\n",
    "    analysisEndJulian = dt.add(analysisPeriod).subtract(1)\n",
    "    analysisStartDate = ee.Date.fromYMD(\n",
    "        year, 1, 1).advance(analysisStartJulian, 'day')\n",
    "    analysisEndDate = ee.Date.fromYMD(\n",
    "        year, 1, 1).advance(analysisEndJulian, 'day')\n",
    "    \n",
    "    img = getMODISFire(analysisStartDate,analysisEndDate).max()\n",
    "    startYMD = ee.Number(getYearMonthDay(analysisStartDate.get(\n",
    "        'year'), analysisStartDate.get('month'), analysisStartDate.get('day')))\n",
    "    endYMD = ee.Number(getYearMonthDay(analysisEndDate.get(\n",
    "        'year'), analysisEndDate.get('month'), analysisEndDate.get('day')))\n",
    "    return img.set({\n",
    "        'modisStartDate': startYMD,\n",
    "        'modisEndDate': endYMD,\n",
    "        'system:time_start': analysisStartDate.millis(),\n",
    "        }).unmask()\n",
    "\n",
    "def wrap(year, dates):\n",
    "    out = dates.map(lambda i: per_date(i,year))\n",
    "    return out\n",
    "    \n",
    "    "
   ]
  },
  {
   "cell_type": "code",
   "execution_count": null,
   "id": "757048ae",
   "metadata": {},
   "outputs": [],
   "source": [
    "lists_of_images = years.map(lambda i: wrap(i,dates))\n",
    "col = ee.ImageCollection(lists_of_images.flatten())"
   ]
  },
  {
   "cell_type": "code",
   "execution_count": null,
   "id": "c3f0957f",
   "metadata": {},
   "outputs": [],
   "source": [
    "Map = geemap.Map()\n",
    "Map"
   ]
  },
  {
   "cell_type": "markdown",
   "id": "adcea764",
   "metadata": {},
   "source": [
    "add the first image to the map to check output (this case it's all 0's)"
   ]
  },
  {
   "cell_type": "code",
   "execution_count": null,
   "id": "690ab7a3",
   "metadata": {},
   "outputs": [],
   "source": [
    "\n",
    "img = col.first()\n",
    "Map.addLayer(img,{'min':0,'max':1})\n",
    "# print(col.size().getInfo())\n",
    "# print(col.first().get('system:time_start').getInfo())"
   ]
  },
  {
   "cell_type": "markdown",
   "id": "9ec71d6a",
   "metadata": {},
   "source": [
    "export functions"
   ]
  },
  {
   "cell_type": "code",
   "execution_count": null,
   "id": "8e435597",
   "metadata": {},
   "outputs": [],
   "source": [
    "def export_modis(image, geometry, name, export_path, scale, crs, test=False,test_export=False):\n",
    "\n",
    "    task = ee.batch.Export.image.toAsset(\n",
    "        image=image,\n",
    "        description=name,\n",
    "        assetId=f'{export_path}/{name}',\n",
    "        region=geometry,\n",
    "        scale=scale,\n",
    "        crs=crs,\n",
    "        maxPixels=1e13,\n",
    "    )\n",
    "    if test:\n",
    "        print(name,f'{export_path}/{name}',scale,crs)\n",
    "        print(image.propertyNames().getInfo())\n",
    "    elif test_export:\n",
    "        print('starting test export')\n",
    "        task.start()\n",
    "    else:\n",
    "        print(f'export {name} starting')\n",
    "        task.start()\n",
    "\n",
    "def export_image_collection(collection, export_func,\n",
    "                            geometry=None, export_path=None,\n",
    "                            exportScale=None, crs=None,\n",
    "                            test=False, test_export=False):\n",
    "    if geometry is None:\n",
    "        geometry = collection.first().geometry()\n",
    "    collection = collection.sort('system:time_start')\n",
    "    col_size = collection.size()\n",
    "    col_list = collection.toList(col_size)\n",
    "    col_size_local = col_size.getInfo()\n",
    "    export_descriptions = []\n",
    "    if test or test_export:\n",
    "        col_size_local = 1\n",
    "    for i in range(0, col_size_local):\n",
    "        img_in = ee.Image(col_list.get(i))\n",
    "        desc = export_func(img_in, geometry, f\"{i}_img\",\n",
    "                           export_path, exportScale, crs, test=test,test_export=test_export)\n",
    "        export_descriptions.append(desc)\n",
    "\n",
    "    return export_descriptions"
   ]
  },
  {
   "cell_type": "markdown",
   "id": "9feb7b20",
   "metadata": {},
   "source": [
    "merge ROC and DRC geometries, set export parameters, and initialize exports\n",
    "\n",
    "set test_export to True to export whole collection. "
   ]
  },
  {
   "cell_type": "code",
   "execution_count": null,
   "id": "83a4647e",
   "metadata": {},
   "outputs": [],
   "source": [
    "\n",
    "DRC_border = ee.FeatureCollection(\n",
    "    \"projects/ee-karistenneson/assets/BurnedBiomass/DRC_Training/DRC_Border\")\n",
    "ROC_border = ee.FeatureCollection(\n",
    "    \"projects/central-africa-silvacarbon/assets/roc_fire/tables/roc_geom\")\n",
    "region = ROC_border.merge(DRC_border).geometry().bounds()\n",
    "# Map.addLayer(region)\n",
    "export_path ='projects/central-africa-silvacarbon/assets/modis_thermal/modis_thermal'\n",
    "exportScale = 1000\n",
    "export_image_collection(col,export_modis,region,export_path=export_path,exportScale=exportScale,test_export=True)"
   ]
  },
  {
   "cell_type": "markdown",
   "id": "54a11112",
   "metadata": {},
   "source": [
    "Un-needed but kept for record keeping. \n",
    "\n",
    "First collection was exported with non-fire values masked. When loaded as a time series in CEO this caused the charts to error for any sample that was masked at any point in time (e.g. time series chart does not handle Null values at this time).\n",
    "\n",
    "To fix this the previous exported collection was called and then each image was unmasked and re-exported."
   ]
  },
  {
   "cell_type": "code",
   "execution_count": null,
   "id": "341ec19a",
   "metadata": {},
   "outputs": [],
   "source": [
    "# # unmask and reexport \n",
    "\n",
    "# DRC_border = ee.FeatureCollection(\n",
    "#     \"projects/ee-karistenneson/assets/BurnedBiomass/DRC_Training/DRC_Border\")\n",
    "# ROC_border = ee.FeatureCollection(\n",
    "#     \"projects/central-africa-silvacarbon/assets/roc_fire/tables/roc_geom\")\n",
    "# export_path ='projects/central-africa-silvacarbon/assets/modis_thermal/modis_thermal_unmask'\n",
    "# region = ROC_border.merge(DRC_border).geometry().bounds()\n",
    "# # Map.addLayer(region)\n",
    "# in_path ='projects/central-africa-silvacarbon/assets/modis_thermal/modis_thermal'\n",
    "# col = ee.ImageCollection(in_path).map(lambda i : i.unmask())\n",
    "# exportScale = 1000\n",
    "# Map.addLayer(col.first(),{'min':0,'max':1},'unmask')\n",
    "# # print(col.first().getInfo())\n",
    "# export_image_collection(col,export_modis,region,export_path=export_path,exportScale=exportScale)"
   ]
  }
 ],
 "metadata": {
  "kernelspec": {
   "display_name": "Python 3 (ipykernel)",
   "language": "python",
   "name": "python3"
  },
  "language_info": {
   "codemirror_mode": {
    "name": "ipython",
    "version": 3
   },
   "file_extension": ".py",
   "mimetype": "text/x-python",
   "name": "python",
   "nbconvert_exporter": "python",
   "pygments_lexer": "ipython3",
   "version": "3.8.10"
  }
 },
 "nbformat": 4,
 "nbformat_minor": 5
}
